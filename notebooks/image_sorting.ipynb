{
 "cells": [
  {
   "cell_type": "markdown",
   "metadata": {},
   "source": [
    "# Image Sorting"
   ]
  },
  {
   "cell_type": "markdown",
   "metadata": {},
   "source": [
    "In this notebook, we will sort the cell images, into a folder-subfolder structure that corresponds to the mode of action (MoA) classification, in order to facilitate the training of the CNN in pytorch. We will first load the dataframes which contain the information on which compound was used to treat cells on each image and the corresponding MoA. \n",
    "\n",
    "The cell images are available for downloading at the following url: https://bbbc.broadinstitute.org/BBBC021\n",
    "\n",
    "They are organized per week (week 1 : pictures taken during week 1, week 2: during week 2 etc...). A CSV metadata file lists the correspondance between cell image names, compounds, and MoA."
   ]
  },
  {
   "cell_type": "code",
   "execution_count": 2,
   "metadata": {},
   "outputs": [],
   "source": [
    "#let's first load the packages we will need\n",
    "import pandas as pd\n",
    "import numpy as np\n",
    "import shutil\n",
    "import os\n"
   ]
  },
  {
   "cell_type": "code",
   "execution_count": 3,
   "metadata": {},
   "outputs": [
    {
     "data": {
      "text/html": [
       "<div>\n",
       "<style scoped>\n",
       "    .dataframe tbody tr th:only-of-type {\n",
       "        vertical-align: middle;\n",
       "    }\n",
       "\n",
       "    .dataframe tbody tr th {\n",
       "        vertical-align: top;\n",
       "    }\n",
       "\n",
       "    .dataframe thead th {\n",
       "        text-align: right;\n",
       "    }\n",
       "</style>\n",
       "<table border=\"1\" class=\"dataframe\">\n",
       "  <thead>\n",
       "    <tr style=\"text-align: right;\">\n",
       "      <th></th>\n",
       "      <th>TableNumber</th>\n",
       "      <th>ImageNumber</th>\n",
       "      <th>Image_FileName_DAPI</th>\n",
       "      <th>Image_PathName_DAPI</th>\n",
       "      <th>Image_FileName_Tubulin</th>\n",
       "      <th>Image_PathName_Tubulin</th>\n",
       "      <th>Image_FileName_Actin</th>\n",
       "      <th>Image_PathName_Actin</th>\n",
       "      <th>Image_Metadata_Plate_DAPI</th>\n",
       "      <th>Image_Metadata_Well_DAPI</th>\n",
       "      <th>Replicate</th>\n",
       "      <th>Image_Metadata_Compound</th>\n",
       "      <th>Image_Metadata_Concentration</th>\n",
       "      <th>Image_Metadata_MoA</th>\n",
       "      <th>Image_Metadata_SMILES</th>\n",
       "    </tr>\n",
       "  </thead>\n",
       "  <tbody>\n",
       "    <tr>\n",
       "      <th>0</th>\n",
       "      <td>4</td>\n",
       "      <td>233</td>\n",
       "      <td>G10_s1_w1BEDC2073-A983-4B98-95E9-84466707A25D.tif</td>\n",
       "      <td>Week4/Week4_27481</td>\n",
       "      <td>G10_s1_w2DCEC82F3-05F7-4F2F-B779-C5DF9698141E.tif</td>\n",
       "      <td>Week4/Week4_27481</td>\n",
       "      <td>G10_s1_w43CD51CBC-2370-471F-BA01-EE250B14B3C8.tif</td>\n",
       "      <td>Week4/Week4_27481</td>\n",
       "      <td>Week4_27481</td>\n",
       "      <td>G10</td>\n",
       "      <td>1</td>\n",
       "      <td>5-fluorouracil</td>\n",
       "      <td>0.003</td>\n",
       "      <td>DNA replication</td>\n",
       "      <td>FC1=CNC(=O)NC1=O</td>\n",
       "    </tr>\n",
       "    <tr>\n",
       "      <th>1</th>\n",
       "      <td>4</td>\n",
       "      <td>234</td>\n",
       "      <td>G10_s2_w11C3B9BCC-E48F-4C2F-9D31-8F46D8B5B972.tif</td>\n",
       "      <td>Week4/Week4_27481</td>\n",
       "      <td>G10_s2_w2570437EF-C8DC-4074-8D63-7FA3A7271FEE.tif</td>\n",
       "      <td>Week4/Week4_27481</td>\n",
       "      <td>G10_s2_w400B21F33-BDAB-4363-92C2-F4FB7545F08C.tif</td>\n",
       "      <td>Week4/Week4_27481</td>\n",
       "      <td>Week4_27481</td>\n",
       "      <td>G10</td>\n",
       "      <td>1</td>\n",
       "      <td>5-fluorouracil</td>\n",
       "      <td>0.003</td>\n",
       "      <td>DNA replication</td>\n",
       "      <td>FC1=CNC(=O)NC1=O</td>\n",
       "    </tr>\n",
       "    <tr>\n",
       "      <th>2</th>\n",
       "      <td>4</td>\n",
       "      <td>235</td>\n",
       "      <td>G10_s3_w1F4FCE330-C71C-4CA3-9815-EAF9B9876EB5.tif</td>\n",
       "      <td>Week4/Week4_27481</td>\n",
       "      <td>G10_s3_w2194A9AC7-369B-4D84-99C0-DA809B0042B8.tif</td>\n",
       "      <td>Week4/Week4_27481</td>\n",
       "      <td>G10_s3_w4E0452054-9FC1-41AB-8C5B-D0ACD058991F.tif</td>\n",
       "      <td>Week4/Week4_27481</td>\n",
       "      <td>Week4_27481</td>\n",
       "      <td>G10</td>\n",
       "      <td>1</td>\n",
       "      <td>5-fluorouracil</td>\n",
       "      <td>0.003</td>\n",
       "      <td>DNA replication</td>\n",
       "      <td>FC1=CNC(=O)NC1=O</td>\n",
       "    </tr>\n",
       "    <tr>\n",
       "      <th>3</th>\n",
       "      <td>4</td>\n",
       "      <td>236</td>\n",
       "      <td>G10_s4_w1747818B4-FFA7-40EE-B0A0-6A5974AF2644.tif</td>\n",
       "      <td>Week4/Week4_27481</td>\n",
       "      <td>G10_s4_w298D4652F-B5BF-49F2-BE51-8149DF83EAFD.tif</td>\n",
       "      <td>Week4/Week4_27481</td>\n",
       "      <td>G10_s4_w42648D36D-6B77-41CD-B520-6E4C533D9ABC.tif</td>\n",
       "      <td>Week4/Week4_27481</td>\n",
       "      <td>Week4_27481</td>\n",
       "      <td>G10</td>\n",
       "      <td>1</td>\n",
       "      <td>5-fluorouracil</td>\n",
       "      <td>0.003</td>\n",
       "      <td>DNA replication</td>\n",
       "      <td>FC1=CNC(=O)NC1=O</td>\n",
       "    </tr>\n",
       "    <tr>\n",
       "      <th>4</th>\n",
       "      <td>4</td>\n",
       "      <td>473</td>\n",
       "      <td>G10_s1_w10034568D-CC12-43C3-93A9-DC3782099DD3.tif</td>\n",
       "      <td>Week4/Week4_27521</td>\n",
       "      <td>G10_s1_w2A29ED14B-952C-4BA1-89B9-4F92B6DADEB4.tif</td>\n",
       "      <td>Week4/Week4_27521</td>\n",
       "      <td>G10_s1_w4DAA2E9D1-F6E9-45FA-ADC0-D341B647A680.tif</td>\n",
       "      <td>Week4/Week4_27521</td>\n",
       "      <td>Week4_27521</td>\n",
       "      <td>G10</td>\n",
       "      <td>2</td>\n",
       "      <td>5-fluorouracil</td>\n",
       "      <td>0.003</td>\n",
       "      <td>DNA replication</td>\n",
       "      <td>FC1=CNC(=O)NC1=O</td>\n",
       "    </tr>\n",
       "  </tbody>\n",
       "</table>\n",
       "</div>"
      ],
      "text/plain": [
       "   TableNumber  ImageNumber  \\\n",
       "0            4          233   \n",
       "1            4          234   \n",
       "2            4          235   \n",
       "3            4          236   \n",
       "4            4          473   \n",
       "\n",
       "                                 Image_FileName_DAPI Image_PathName_DAPI  \\\n",
       "0  G10_s1_w1BEDC2073-A983-4B98-95E9-84466707A25D.tif   Week4/Week4_27481   \n",
       "1  G10_s2_w11C3B9BCC-E48F-4C2F-9D31-8F46D8B5B972.tif   Week4/Week4_27481   \n",
       "2  G10_s3_w1F4FCE330-C71C-4CA3-9815-EAF9B9876EB5.tif   Week4/Week4_27481   \n",
       "3  G10_s4_w1747818B4-FFA7-40EE-B0A0-6A5974AF2644.tif   Week4/Week4_27481   \n",
       "4  G10_s1_w10034568D-CC12-43C3-93A9-DC3782099DD3.tif   Week4/Week4_27521   \n",
       "\n",
       "                              Image_FileName_Tubulin Image_PathName_Tubulin  \\\n",
       "0  G10_s1_w2DCEC82F3-05F7-4F2F-B779-C5DF9698141E.tif      Week4/Week4_27481   \n",
       "1  G10_s2_w2570437EF-C8DC-4074-8D63-7FA3A7271FEE.tif      Week4/Week4_27481   \n",
       "2  G10_s3_w2194A9AC7-369B-4D84-99C0-DA809B0042B8.tif      Week4/Week4_27481   \n",
       "3  G10_s4_w298D4652F-B5BF-49F2-BE51-8149DF83EAFD.tif      Week4/Week4_27481   \n",
       "4  G10_s1_w2A29ED14B-952C-4BA1-89B9-4F92B6DADEB4.tif      Week4/Week4_27521   \n",
       "\n",
       "                                Image_FileName_Actin Image_PathName_Actin  \\\n",
       "0  G10_s1_w43CD51CBC-2370-471F-BA01-EE250B14B3C8.tif    Week4/Week4_27481   \n",
       "1  G10_s2_w400B21F33-BDAB-4363-92C2-F4FB7545F08C.tif    Week4/Week4_27481   \n",
       "2  G10_s3_w4E0452054-9FC1-41AB-8C5B-D0ACD058991F.tif    Week4/Week4_27481   \n",
       "3  G10_s4_w42648D36D-6B77-41CD-B520-6E4C533D9ABC.tif    Week4/Week4_27481   \n",
       "4  G10_s1_w4DAA2E9D1-F6E9-45FA-ADC0-D341B647A680.tif    Week4/Week4_27521   \n",
       "\n",
       "  Image_Metadata_Plate_DAPI Image_Metadata_Well_DAPI  Replicate  \\\n",
       "0               Week4_27481                      G10          1   \n",
       "1               Week4_27481                      G10          1   \n",
       "2               Week4_27481                      G10          1   \n",
       "3               Week4_27481                      G10          1   \n",
       "4               Week4_27521                      G10          2   \n",
       "\n",
       "  Image_Metadata_Compound  Image_Metadata_Concentration Image_Metadata_MoA  \\\n",
       "0          5-fluorouracil                         0.003    DNA replication   \n",
       "1          5-fluorouracil                         0.003    DNA replication   \n",
       "2          5-fluorouracil                         0.003    DNA replication   \n",
       "3          5-fluorouracil                         0.003    DNA replication   \n",
       "4          5-fluorouracil                         0.003    DNA replication   \n",
       "\n",
       "  Image_Metadata_SMILES  \n",
       "0      FC1=CNC(=O)NC1=O  \n",
       "1      FC1=CNC(=O)NC1=O  \n",
       "2      FC1=CNC(=O)NC1=O  \n",
       "3      FC1=CNC(=O)NC1=O  \n",
       "4      FC1=CNC(=O)NC1=O  "
      ]
     },
     "execution_count": 3,
     "metadata": {},
     "output_type": "execute_result"
    }
   ],
   "source": [
    "#now we will load the dataframe containing data\n",
    "df = pd.read_csv('csv_files/BBBC021_final_enhanced_dataset.csv')\n",
    "df.head()"
   ]
  },
  {
   "cell_type": "markdown",
   "metadata": {},
   "source": [
    "We will now count how many compounds we have for each MoA. To avoid data leakage, we want to make sure images obtained with a single compound do not end up in both the training and the test set. We will therefore select at least one compound per MoA that we will reserve for the test set. Let's first have a look at how many compounds per MoA we have in the dataset"
   ]
  },
  {
   "cell_type": "code",
   "execution_count": 20,
   "metadata": {},
   "outputs": [
    {
     "data": {
      "text/plain": [
       "Image_Metadata_MoA\n",
       "Actin disruptors                                 3\n",
       "Aurora kinase inhibitors                         4\n",
       "Cholesterol-lowering                             2\n",
       "DMSO                                             1\n",
       "DNA damage                                      10\n",
       "DNA replication                                  8\n",
       "EGFR inhibitor                                   1\n",
       "Eg5 inhibitors                                   2\n",
       "Epithelial                                       3\n",
       "Estorgen receptor agonist                        1\n",
       "Estrogen receptor antagonist                     1\n",
       "Estrogen receptor modulator                      1\n",
       "Kinase inhibitors                               14\n",
       "Microtubule destabilizers                        5\n",
       "Microtubule stabilizers                          3\n",
       "Muscarinic acetylcholine receptor antagonist     1\n",
       "Protein degradation                              4\n",
       "Protein synthesis                                3\n",
       "Name: Image_Metadata_Compound, dtype: int64"
      ]
     },
     "execution_count": 20,
     "metadata": {},
     "output_type": "execute_result"
    }
   ],
   "source": [
    "#let's see how many image we have per compound\n",
    "\n",
    "\n",
    "df.groupby('Image_Metadata_MoA').Image_Metadata_Compound.nunique()"
   ]
  },
  {
   "cell_type": "markdown",
   "metadata": {},
   "source": [
    "We have more than one compound for most, but for some MoA, we only have a single compound. We therefore cannot have pictures with this MoA in both the training and the test set. We will therefore remove them from the dataset"
   ]
  },
  {
   "cell_type": "code",
   "execution_count": 38,
   "metadata": {},
   "outputs": [],
   "source": [
    "to_remove = ['DMSO', 'EGFR inhibitor', 'Estorgen receptor agonist', 'Estrogen receptor antagonist', 'Estrogen receptor modulator',\n",
    "             'Muscarinic acetylcholine receptor antagonist']\n",
    "\n",
    "df = df[~df.Image_Metadata_MoA.isin(to_remove)]"
   ]
  },
  {
   "cell_type": "markdown",
   "metadata": {},
   "source": [
    "Let's now have a look at how many images we have per compound."
   ]
  },
  {
   "cell_type": "code",
   "execution_count": 39,
   "metadata": {},
   "outputs": [
    {
     "name": "stdout",
     "output_type": "stream",
     "text": [
      "there are between 64 and 1416 images per compound\n"
     ]
    }
   ],
   "source": [
    "min_img = df.groupby('Image_Metadata_Compound').count().TableNumber.min()\n",
    "max_img = df.groupby('Image_Metadata_Compound').count().TableNumber.max()\n",
    "\n",
    "print('there are between {} and {} images per compound'.format(min_img, max_img))"
   ]
  },
  {
   "cell_type": "markdown",
   "metadata": {},
   "source": [
    "We have at least 64 images per compound. This means that if we sample a random compound for each MoA, we should end up with a substantial number of images that we could reserve for the test set. Let's define a test set with this method"
   ]
  },
  {
   "cell_type": "code",
   "execution_count": 40,
   "metadata": {},
   "outputs": [
    {
     "data": {
      "text/plain": [
       "0     cytochalasin B\n",
       "1          quercetin\n",
       "2        simvastatin\n",
       "3          etoposide\n",
       "4        doxorubicin\n",
       "5              AZ138\n",
       "6               AZ-U\n",
       "7        roscovitine\n",
       "8         nocodazole\n",
       "9              taxol\n",
       "10              ALLN\n",
       "11           emetine\n",
       "Name: Image_Metadata_Compound, dtype: object"
      ]
     },
     "execution_count": 40,
     "metadata": {},
     "output_type": "execute_result"
    }
   ],
   "source": [
    "test_cpd = df.groupby('Image_Metadata_MoA').Image_Metadata_Compound.apply(lambda x: x.sample(1)).reset_index(drop=True)\n",
    "test_cpd"
   ]
  },
  {
   "cell_type": "markdown",
   "metadata": {},
   "source": [
    "These compounds will be in the test set, remaining ones will be in the training set. Let's split the train and the test set"
   ]
  },
  {
   "cell_type": "code",
   "execution_count": 41,
   "metadata": {},
   "outputs": [
    {
     "name": "stdout",
     "output_type": "stream",
     "text": [
      "number of pictures in the train set: 8832, number of pictures in the test set: 2472\n"
     ]
    }
   ],
   "source": [
    "df_train = df[~df.Image_Metadata_Compound.isin(test_cpd)]\n",
    "df_test = df[df.Image_Metadata_Compound.isin(test_cpd)]\n",
    "\n",
    "print('number of pictures in the train set: {}, number of pictures in the test set: {}'.format(len(df_train), len(df_test)))"
   ]
  },
  {
   "cell_type": "markdown",
   "metadata": {},
   "source": [
    "We now have a train and test set, and our test set contains approximately 22% of the total pictures, which is a perfect balance for a train/test split."
   ]
  },
  {
   "cell_type": "markdown",
   "metadata": {},
   "source": [
    "We will now organize the images into a proper folder structure. Note that there are three channels for each image. Instead of the classic RGB channel, our channels are DAPI, Tubulin, Actin. These correspond to different components of the cells that are marked and then visualized in microscopy. We will organize our folders according to a following structure:\n",
    "\n",
    "root/\n",
    "\n",
    "    dataset/\n",
    "        train/\n",
    "            class1/\n",
    "                DAPI/\n",
    "                    image1.jpg\n",
    "                    image2.jpg            \n",
    "                    ...\n",
    "                Tubulin/\n",
    "                    image1.jpg\n",
    "                    image2.jpg\n",
    "                    ...\n",
    "                Actin/\n",
    "                    image1.jpg\n",
    "                    image2.jpg\n",
    "                    ...\n",
    "            class2/\n",
    "                DAPI/\n",
    "                    image1.jpg\n",
    "                    image2.jpg\n",
    "                    ...\n",
    "                Tubulin/\n",
    "                    image1.jpg\n",
    "                    image2.jpg\n",
    "                    ...\n",
    "                Actin/\n",
    "                    image1.jpg\n",
    "                    image2.jpg\n",
    "                    ...\n",
    "        test/\n",
    "            class1/\n",
    "                DAPI/\n",
    "                    image1.jpg\n",
    "                    image2.jpg            \n",
    "                    ...\n",
    "                Tubulin/\n",
    "                    image1.jpg\n",
    "                    image2.jpg\n",
    "                    ...\n",
    "                Actin/\n",
    "                    image1.jpg\n",
    "                    image2.jpg\n",
    "                    ...\n",
    "            class2/\n",
    "                DAPI/\n",
    "                    image1.jpg\n",
    "                    image2.jpg\n",
    "                    ...\n",
    "                Tubulin/\n",
    "                    image1.jpg\n",
    "                    image2.jpg\n",
    "                    ...\n",
    "                Actin/\n",
    "                    image1.jpg\n",
    "                    image2.jpg\n",
    "                    ...\n",
    "        ..."
   ]
  },
  {
   "cell_type": "code",
   "execution_count": 32,
   "metadata": {},
   "outputs": [],
   "source": [
    "#first we iterate through each MoA\n",
    "for moa in df_train.Image_Metadata_MoA.unique():\n",
    "    df_filtered = df_train[df_train.Image_Metadata_MoA == moa]\n",
    "\n",
    "    for n in range(len(df_filtered)): #then we iterate through pictures per MoA\n",
    "        path_dapi = df_filtered.Image_PathName_DAPI.iloc[n][6:] #and save the path of the respective image for all three channels\n",
    "        dapi = df_filtered.Image_FileName_DAPI.iloc[n]\n",
    "        path_dapi = 'images/cells/{}/{}'.format(path_dapi, dapi)\n",
    "\n",
    "        path_tubulin = df_filtered.Image_PathName_Tubulin.iloc[n][6:]\n",
    "        tubulin = df_filtered.Image_FileName_Tubulin.iloc[n]\n",
    "        path_tubulin = 'images/cells/{}/{}'.format(path_tubulin, tubulin)\n",
    "        \n",
    "        path_actin = df_filtered.Image_PathName_Actin.iloc[n][6:]\n",
    "        actin = df_filtered.Image_FileName_Actin.iloc[n]\n",
    "        path_actin = 'images/cells/{}/{}'.format(path_actin, actin)\n",
    "\n",
    "        #then we copy each image into the proper folder following the structure showed above\n",
    "        try:\n",
    "            shutil.copy(path_dapi, 'sorted/train/{}/dapi/{}'.format(moa, dapi))\n",
    "        except IOError as io_err:\n",
    "            os.makedirs(os.path.dirname('sorted/train/{}/dapi/{}'.format(moa, dapi))) #if the folder does not exist yet, we create it\n",
    "            shutil.copy(path_dapi, 'sorted/train/{}/dapi/{}'.format(moa, dapi))\n",
    "\n",
    "        try:\n",
    "            shutil.copy(path_tubulin, 'sorted/train/{}/tubulin/{}'.format(moa, tubulin))\n",
    "        except IOError as io_err:\n",
    "            os.makedirs(os.path.dirname('sorted/train/{}/tubulin/{}'.format(moa, tubulin)))\n",
    "            shutil.copy(path_tubulin, 'sorted/train/{}/tubulin/{}'.format(moa, tubulin))\n",
    "        \n",
    "        try:\n",
    "            shutil.copy(path_actin, 'sorted/train/{}/actin/{}'.format(moa, actin))\n",
    "        except IOError as io_err:\n",
    "            os.makedirs(os.path.dirname('sorted/train/{}/actin/{}'.format(moa, actin)))\n",
    "            shutil.copy(path_actin, 'sorted/train/{}/actin/{}'.format(moa, actin))\n",
    "        \n",
    "\n",
    "        "
   ]
  },
  {
   "cell_type": "markdown",
   "metadata": {},
   "source": [
    "We now do the same thing for the test set"
   ]
  },
  {
   "cell_type": "code",
   "execution_count": 33,
   "metadata": {},
   "outputs": [],
   "source": [
    "#first we iterate through each MoA\n",
    "for moa in df_test.Image_Metadata_MoA.unique():\n",
    "    df_filtered = df_test[df_test.Image_Metadata_MoA == moa]\n",
    "\n",
    "    for n in range(len(df_filtered)): #then we iterate through pictures per MoA\n",
    "        path_dapi = df_filtered.Image_PathName_DAPI.iloc[n][6:] #and save the path of the respective image for all three channels\n",
    "        dapi = df_filtered.Image_FileName_DAPI.iloc[n]\n",
    "        path_dapi = 'images/cells/{}/{}'.format(path_dapi, dapi)\n",
    "\n",
    "        path_tubulin = df_filtered.Image_PathName_Tubulin.iloc[n][6:]\n",
    "        tubulin = df_filtered.Image_FileName_Tubulin.iloc[n]\n",
    "        path_tubulin = 'images/cells/{}/{}'.format(path_tubulin, tubulin)\n",
    "        \n",
    "        path_actin = df_filtered.Image_PathName_Actin.iloc[n][6:]\n",
    "        actin = df_filtered.Image_FileName_Actin.iloc[n]\n",
    "        path_actin = 'images/cells/{}/{}'.format(path_actin, actin)\n",
    "\n",
    "        #then we copy each image into the proper folder following the structure showed above\n",
    "        try:\n",
    "            shutil.copy(path_dapi, 'sorted/test/{}/dapi/{}'.format(moa, dapi))\n",
    "        except IOError as io_err:\n",
    "            os.makedirs(os.path.dirname('sorted/test/{}/dapi/{}'.format(moa, dapi))) #if the folder does not exist yet, we create it\n",
    "            shutil.copy(path_dapi, 'sorted/test/{}/dapi/{}'.format(moa, dapi))\n",
    "\n",
    "        try:\n",
    "            shutil.copy(path_tubulin, 'sorted/test/{}/tubulin/{}'.format(moa, tubulin))\n",
    "        except IOError as io_err:\n",
    "            os.makedirs(os.path.dirname('sorted/test/{}/tubulin/{}'.format(moa, tubulin)))\n",
    "            shutil.copy(path_tubulin, 'sorted/test/{}/tubulin/{}'.format(moa, tubulin))\n",
    "        \n",
    "        try:\n",
    "            shutil.copy(path_actin, 'sorted/test/{}/actin/{}'.format(moa, actin))\n",
    "        except IOError as io_err:\n",
    "            os.makedirs(os.path.dirname('sorted/test/{}/actin/{}'.format(moa, actin)))\n",
    "            shutil.copy(path_actin, 'sorted/test/{}/actin/{}'.format(moa, actin))"
   ]
  }
 ],
 "metadata": {
  "kernelspec": {
   "display_name": "Python 3",
   "language": "python",
   "name": "python3"
  },
  "language_info": {
   "codemirror_mode": {
    "name": "ipython",
    "version": 3
   },
   "file_extension": ".py",
   "mimetype": "text/x-python",
   "name": "python",
   "nbconvert_exporter": "python",
   "pygments_lexer": "ipython3",
   "version": "3.12.7"
  }
 },
 "nbformat": 4,
 "nbformat_minor": 2
}
