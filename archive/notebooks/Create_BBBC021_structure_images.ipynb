{
 "cells": [
  {
   "cell_type": "markdown",
   "id": "a85f6eb5-562a-4bdb-88c1-98500bf7d4bf",
   "metadata": {},
   "source": [
    "# Convert Chemical Structures to PNG Images"
   ]
  },
  {
   "cell_type": "code",
   "execution_count": 5,
   "id": "88ce38d0-aa74-47c3-ad2a-0a465d8b9b91",
   "metadata": {},
   "outputs": [],
   "source": [
    "import os\n",
    "\n",
    "import pandas as pd\n",
    "\n",
    "from rdkit import Chem\n",
    "from rdkit.Chem import Draw\n",
    "from rdkit.Chem import rdCoordGen"
   ]
  },
  {
   "cell_type": "code",
   "execution_count": 6,
   "id": "c5c0d3c6-ac20-4133-9ef6-83d2e46f207a",
   "metadata": {},
   "outputs": [],
   "source": [
    "data_dir = \"../data/processed\"\n",
    "image_dir = \"../images\""
   ]
  },
  {
   "cell_type": "markdown",
   "id": "b05b7f2c-ca73-4c9a-a4a5-6d029b6de168",
   "metadata": {},
   "source": [
    "Load dataframe and get list of compound name and molecule tuples."
   ]
  },
  {
   "cell_type": "code",
   "execution_count": 7,
   "id": "79ceaf9c-0219-48ae-a726-f6a295444db4",
   "metadata": {},
   "outputs": [
    {
     "data": {
      "text/plain": [
       "35"
      ]
     },
     "execution_count": 7,
     "metadata": {},
     "output_type": "execute_result"
    }
   ],
   "source": [
    "df_cmpds_original = pd.read_pickle(os.path.join(data_dir, \"BBBC021_original_compounds_fps.pickle\"))\n",
    "df_compounds = df_cmpds_original[[\"Image_Metadata_Compound\", \"mol\"]]\n",
    "compounds_list = list(df_compounds.itertuples(index=False, name=None))\n",
    "len(compounds_list)"
   ]
  },
  {
   "cell_type": "markdown",
   "id": "e5f20aaf-86d3-415d-a6ab-bc0c431e3a2f",
   "metadata": {},
   "source": [
    "Iterate through tuple list and render molecules to png files. Add coordinates to the molecueles first to get a more realistic rendering for some cyclic structures."
   ]
  },
  {
   "cell_type": "code",
   "execution_count": 10,
   "id": "ccaab191-8de9-4d2f-a28a-efbbb298dce7",
   "metadata": {},
   "outputs": [
    {
     "name": "stdout",
     "output_type": "stream",
     "text": [
      "Exported ALLN to png image\n",
      "Exported alsterpaullone to png image\n",
      "Exported anisomycin to png image\n",
      "Exported bryostatin to png image\n",
      "Exported camptothecin to png image\n",
      "Exported chlorambucil to png image\n",
      "Exported cisplatin to png image\n",
      "Exported colchicine to png image\n",
      "Exported cyclohexamide to png image\n",
      "Exported cytochalasin_B to png image\n",
      "Exported cytochalasin_D to png image\n",
      "Exported demecolcine to png image\n",
      "Exported docetaxel to png image\n",
      "Exported emetine to png image\n",
      "Exported epothilone_B to png image\n",
      "Exported etoposide to png image\n",
      "Exported floxuridine to png image\n",
      "Exported lactacystin to png image\n",
      "Exported latrunculin_B to png image\n",
      "Exported methotrexate to png image\n",
      "Exported mevinolin_lovastatin to png image\n",
      "Exported MG-132 to png image\n",
      "Exported mitomycin_C to png image\n",
      "Exported mitoxantrone to png image\n",
      "Exported nocodazole to png image\n",
      "Exported PD-169316 to png image\n",
      "Exported PP-2 to png image\n",
      "Exported proteasome_inhibitor_I to png image\n",
      "Exported simvastatin to png image\n",
      "Exported taxol to png image\n",
      "Exported vincristine to png image\n",
      "Exported AZ138 to png image\n",
      "Exported AZ258 to png image\n",
      "Exported AZ841 to png image\n",
      "Exported DMSO to png image\n"
     ]
    }
   ],
   "source": [
    "for cmpd_tup in compounds_list:\n",
    "    cmpd_name = cmpd_tup[0]\n",
    "    if \"/\" in cmpd_name:\n",
    "        cmpd_name = cmpd_name.replace(\"/\", \"_\")\n",
    "    if \" \" in cmpd_name:\n",
    "        cmpd_name = cmpd_name.replace(\" \", \"_\")\n",
    "    cmpd_mol = cmpd_tup[1]\n",
    "    rdCoordGen.AddCoords(cmpd_mol)\n",
    "    Draw.MolToFile(cmpd_mol, os.path.join(image_dir, \"structures\", cmpd_name + \".png\"))\n",
    "    print(f\"Exported {cmpd_name} to png image\")"
   ]
  },
  {
   "cell_type": "code",
   "execution_count": null,
   "id": "5fb2663f-4175-44a6-b0e1-8bf841a8be2d",
   "metadata": {},
   "outputs": [],
   "source": []
  }
 ],
 "metadata": {
  "kernelspec": {
   "display_name": "conda:capstone",
   "language": "python",
   "name": "capstone"
  },
  "language_info": {
   "codemirror_mode": {
    "name": "ipython",
    "version": 3
   },
   "file_extension": ".py",
   "mimetype": "text/x-python",
   "name": "python",
   "nbconvert_exporter": "python",
   "pygments_lexer": "ipython3",
   "version": "3.12.7"
  }
 },
 "nbformat": 4,
 "nbformat_minor": 5
}
