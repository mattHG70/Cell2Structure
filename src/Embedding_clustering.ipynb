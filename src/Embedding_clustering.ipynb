{
 "cells": [
  {
   "cell_type": "markdown",
   "metadata": {},
   "source": [
    "## Clustering of cell image embeddings"
   ]
  },
  {
   "cell_type": "markdown",
   "metadata": {},
   "source": [
    "Cells were treated with various compounds, and images were acquired post treatment. We trained a CNN classifier using the Inception v3 architecture to recognize the mode of action (MoA) of the compounds from the cell images. \n",
    "We then took this model, removed the last fully connected layer which does the classification, and generated the embeddings of the cell images. Our objective is to explore these embeddings, in order to find potential information on the compound structures, which would indicate that there is a possibility to map compound structure from cell images, and therefore potential to create compound generative models. \n",
    "\n",
    "As a first step, we will perform a principal component analysis (PCA) and apply whitening which will help removing the noise from the picture embeddings. We will determine the appropriate number of principal components to keep by aiming at a minimum explained variance of 95% of the original dataset variance.\n",
    "\n",
    "We will then apply clustering on the principal components and on the original embedding vectors, to explore the embeddings space. "
   ]
  },
  {
   "cell_type": "code",
   "execution_count": 30,
   "metadata": {},
   "outputs": [],
   "source": [
    "#We first import the required packages\n",
    "import pandas as pd\n",
    "import numpy as np\n",
    "from sklearn.cluster import KMeans\n",
    "from sklearn.preprocessing import StandardScaler\n",
    "from sklearn.decomposition import PCA\n",
    "from scipy.spatial.distance import euclidean\n",
    "import matplotlib.pyplot as plt\n",
    "import seaborn as sns\n",
    "import random\n",
    "from sklearn.metrics import silhouette_score\n",
    "\n",
    "import warnings\n",
    "warnings.filterwarnings('ignore')"
   ]
  },
  {
   "cell_type": "code",
   "execution_count": 4,
   "metadata": {},
   "outputs": [
    {
     "data": {
      "text/html": [
       "<div>\n",
       "<style scoped>\n",
       "    .dataframe tbody tr th:only-of-type {\n",
       "        vertical-align: middle;\n",
       "    }\n",
       "\n",
       "    .dataframe tbody tr th {\n",
       "        vertical-align: top;\n",
       "    }\n",
       "\n",
       "    .dataframe thead th {\n",
       "        text-align: right;\n",
       "    }\n",
       "</style>\n",
       "<table border=\"1\" class=\"dataframe\">\n",
       "  <thead>\n",
       "    <tr style=\"text-align: right;\">\n",
       "      <th></th>\n",
       "      <th>TableNumber</th>\n",
       "      <th>ImageNumber</th>\n",
       "      <th>Image_FileName_DAPI</th>\n",
       "      <th>Image_PathName_DAPI</th>\n",
       "      <th>Image_FileName_Tubulin</th>\n",
       "      <th>Image_PathName_Tubulin</th>\n",
       "      <th>Image_FileName_Actin</th>\n",
       "      <th>Image_PathName_Actin</th>\n",
       "      <th>Image_Metadata_Plate_DAPI</th>\n",
       "      <th>Image_Metadata_Well_DAPI</th>\n",
       "      <th>...</th>\n",
       "      <th>V2038</th>\n",
       "      <th>V2039</th>\n",
       "      <th>V2040</th>\n",
       "      <th>V2041</th>\n",
       "      <th>V2042</th>\n",
       "      <th>V2043</th>\n",
       "      <th>V2044</th>\n",
       "      <th>V2045</th>\n",
       "      <th>V2046</th>\n",
       "      <th>V2047</th>\n",
       "    </tr>\n",
       "  </thead>\n",
       "  <tbody>\n",
       "    <tr>\n",
       "      <th>0</th>\n",
       "      <td>2</td>\n",
       "      <td>113</td>\n",
       "      <td>Week2_180607_D10_s1_w13459A84F-B9BB-4FB2-B58E-...</td>\n",
       "      <td>Week2/Week2_24121</td>\n",
       "      <td>Week2_180607_D10_s1_w2D35FB8FC-0085-4F4D-B14A-...</td>\n",
       "      <td>Week2/Week2_24121</td>\n",
       "      <td>Week2_180607_D10_s1_w440EA0925-FF71-447F-B395-...</td>\n",
       "      <td>Week2/Week2_24121</td>\n",
       "      <td>Week2_24121</td>\n",
       "      <td>D10</td>\n",
       "      <td>...</td>\n",
       "      <td>0.0</td>\n",
       "      <td>179.425415</td>\n",
       "      <td>237.771286</td>\n",
       "      <td>268.848145</td>\n",
       "      <td>18.922123</td>\n",
       "      <td>301.925629</td>\n",
       "      <td>958.774719</td>\n",
       "      <td>702.290161</td>\n",
       "      <td>0.000000</td>\n",
       "      <td>578.043396</td>\n",
       "    </tr>\n",
       "    <tr>\n",
       "      <th>1</th>\n",
       "      <td>2</td>\n",
       "      <td>114</td>\n",
       "      <td>Week2_180607_D10_s2_w111F1FA1E-8B45-451D-9C50-...</td>\n",
       "      <td>Week2/Week2_24121</td>\n",
       "      <td>Week2_180607_D10_s2_w277BE8611-E2E6-456E-838C-...</td>\n",
       "      <td>Week2/Week2_24121</td>\n",
       "      <td>Week2_180607_D10_s2_w433B4BF8D-9087-401F-89B1-...</td>\n",
       "      <td>Week2/Week2_24121</td>\n",
       "      <td>Week2_24121</td>\n",
       "      <td>D10</td>\n",
       "      <td>...</td>\n",
       "      <td>0.0</td>\n",
       "      <td>194.362671</td>\n",
       "      <td>243.139114</td>\n",
       "      <td>289.954834</td>\n",
       "      <td>12.773600</td>\n",
       "      <td>296.099213</td>\n",
       "      <td>936.660278</td>\n",
       "      <td>704.475891</td>\n",
       "      <td>0.000000</td>\n",
       "      <td>558.482239</td>\n",
       "    </tr>\n",
       "    <tr>\n",
       "      <th>2</th>\n",
       "      <td>2</td>\n",
       "      <td>115</td>\n",
       "      <td>Week2_180607_D10_s3_w13C4CF98E-5824-43A6-A319-...</td>\n",
       "      <td>Week2/Week2_24121</td>\n",
       "      <td>Week2_180607_D10_s3_w2D8C8A48C-6EAF-463F-A673-...</td>\n",
       "      <td>Week2/Week2_24121</td>\n",
       "      <td>Week2_180607_D10_s3_w4E03CCDE6-86D5-4F10-9B54-...</td>\n",
       "      <td>Week2/Week2_24121</td>\n",
       "      <td>Week2_24121</td>\n",
       "      <td>D10</td>\n",
       "      <td>...</td>\n",
       "      <td>0.0</td>\n",
       "      <td>233.560394</td>\n",
       "      <td>196.052811</td>\n",
       "      <td>349.675690</td>\n",
       "      <td>11.262443</td>\n",
       "      <td>322.245850</td>\n",
       "      <td>1003.410828</td>\n",
       "      <td>775.270569</td>\n",
       "      <td>0.028846</td>\n",
       "      <td>692.620544</td>\n",
       "    </tr>\n",
       "    <tr>\n",
       "      <th>3</th>\n",
       "      <td>2</td>\n",
       "      <td>116</td>\n",
       "      <td>Week2_180607_D10_s4_w1E4144E18-06FF-4789-8F9F-...</td>\n",
       "      <td>Week2/Week2_24121</td>\n",
       "      <td>Week2_180607_D10_s4_w25BD84D0B-672D-4292-87B7-...</td>\n",
       "      <td>Week2/Week2_24121</td>\n",
       "      <td>Week2_180607_D10_s4_w4A0FA5EEA-D0F6-4857-9C81-...</td>\n",
       "      <td>Week2/Week2_24121</td>\n",
       "      <td>Week2_24121</td>\n",
       "      <td>D10</td>\n",
       "      <td>...</td>\n",
       "      <td>0.0</td>\n",
       "      <td>191.231522</td>\n",
       "      <td>225.091232</td>\n",
       "      <td>276.203430</td>\n",
       "      <td>18.310738</td>\n",
       "      <td>300.330383</td>\n",
       "      <td>962.777527</td>\n",
       "      <td>729.738281</td>\n",
       "      <td>0.000000</td>\n",
       "      <td>610.617615</td>\n",
       "    </tr>\n",
       "    <tr>\n",
       "      <th>4</th>\n",
       "      <td>2</td>\n",
       "      <td>353</td>\n",
       "      <td>Week2_180607_D10_s1_w199106068-CEA7-4BAB-83EA-...</td>\n",
       "      <td>Week2/Week2_24141</td>\n",
       "      <td>Week2_180607_D10_s1_w20787BC73-DFAE-40D7-80BA-...</td>\n",
       "      <td>Week2/Week2_24141</td>\n",
       "      <td>Week2_180607_D10_s1_w4E09AB7C1-BAF1-4FFE-BFC7-...</td>\n",
       "      <td>Week2/Week2_24141</td>\n",
       "      <td>Week2_24141</td>\n",
       "      <td>D10</td>\n",
       "      <td>...</td>\n",
       "      <td>0.0</td>\n",
       "      <td>165.704620</td>\n",
       "      <td>244.550369</td>\n",
       "      <td>329.414825</td>\n",
       "      <td>15.526624</td>\n",
       "      <td>297.618347</td>\n",
       "      <td>988.768860</td>\n",
       "      <td>735.684631</td>\n",
       "      <td>0.000399</td>\n",
       "      <td>613.368652</td>\n",
       "    </tr>\n",
       "  </tbody>\n",
       "</table>\n",
       "<p>5 rows × 2063 columns</p>\n",
       "</div>"
      ],
      "text/plain": [
       "   TableNumber  ImageNumber  \\\n",
       "0            2          113   \n",
       "1            2          114   \n",
       "2            2          115   \n",
       "3            2          116   \n",
       "4            2          353   \n",
       "\n",
       "                                 Image_FileName_DAPI Image_PathName_DAPI  \\\n",
       "0  Week2_180607_D10_s1_w13459A84F-B9BB-4FB2-B58E-...   Week2/Week2_24121   \n",
       "1  Week2_180607_D10_s2_w111F1FA1E-8B45-451D-9C50-...   Week2/Week2_24121   \n",
       "2  Week2_180607_D10_s3_w13C4CF98E-5824-43A6-A319-...   Week2/Week2_24121   \n",
       "3  Week2_180607_D10_s4_w1E4144E18-06FF-4789-8F9F-...   Week2/Week2_24121   \n",
       "4  Week2_180607_D10_s1_w199106068-CEA7-4BAB-83EA-...   Week2/Week2_24141   \n",
       "\n",
       "                              Image_FileName_Tubulin Image_PathName_Tubulin  \\\n",
       "0  Week2_180607_D10_s1_w2D35FB8FC-0085-4F4D-B14A-...      Week2/Week2_24121   \n",
       "1  Week2_180607_D10_s2_w277BE8611-E2E6-456E-838C-...      Week2/Week2_24121   \n",
       "2  Week2_180607_D10_s3_w2D8C8A48C-6EAF-463F-A673-...      Week2/Week2_24121   \n",
       "3  Week2_180607_D10_s4_w25BD84D0B-672D-4292-87B7-...      Week2/Week2_24121   \n",
       "4  Week2_180607_D10_s1_w20787BC73-DFAE-40D7-80BA-...      Week2/Week2_24141   \n",
       "\n",
       "                                Image_FileName_Actin Image_PathName_Actin  \\\n",
       "0  Week2_180607_D10_s1_w440EA0925-FF71-447F-B395-...    Week2/Week2_24121   \n",
       "1  Week2_180607_D10_s2_w433B4BF8D-9087-401F-89B1-...    Week2/Week2_24121   \n",
       "2  Week2_180607_D10_s3_w4E03CCDE6-86D5-4F10-9B54-...    Week2/Week2_24121   \n",
       "3  Week2_180607_D10_s4_w4A0FA5EEA-D0F6-4857-9C81-...    Week2/Week2_24121   \n",
       "4  Week2_180607_D10_s1_w4E09AB7C1-BAF1-4FFE-BFC7-...    Week2/Week2_24141   \n",
       "\n",
       "  Image_Metadata_Plate_DAPI Image_Metadata_Well_DAPI  ...  V2038       V2039  \\\n",
       "0               Week2_24121                      D10  ...    0.0  179.425415   \n",
       "1               Week2_24121                      D10  ...    0.0  194.362671   \n",
       "2               Week2_24121                      D10  ...    0.0  233.560394   \n",
       "3               Week2_24121                      D10  ...    0.0  191.231522   \n",
       "4               Week2_24141                      D10  ...    0.0  165.704620   \n",
       "\n",
       "        V2040       V2041      V2042       V2043        V2044       V2045  \\\n",
       "0  237.771286  268.848145  18.922123  301.925629   958.774719  702.290161   \n",
       "1  243.139114  289.954834  12.773600  296.099213   936.660278  704.475891   \n",
       "2  196.052811  349.675690  11.262443  322.245850  1003.410828  775.270569   \n",
       "3  225.091232  276.203430  18.310738  300.330383   962.777527  729.738281   \n",
       "4  244.550369  329.414825  15.526624  297.618347   988.768860  735.684631   \n",
       "\n",
       "      V2046       V2047  \n",
       "0  0.000000  578.043396  \n",
       "1  0.000000  558.482239  \n",
       "2  0.028846  692.620544  \n",
       "3  0.000000  610.617615  \n",
       "4  0.000399  613.368652  \n",
       "\n",
       "[5 rows x 2063 columns]"
      ]
     },
     "execution_count": 4,
     "metadata": {},
     "output_type": "execute_result"
    }
   ],
   "source": [
    "#we load the dataframe with embeddings\n",
    "path = 'embedding_datasets/'\n",
    "file_name = 'embeddings_l2l_MoA_only.csv'\n",
    "df = pd.read_csv(path + file_name)\n",
    "\n",
    "df.head()"
   ]
  },
  {
   "cell_type": "code",
   "execution_count": 17,
   "metadata": {},
   "outputs": [
    {
     "name": "stdout",
     "output_type": "stream",
     "text": [
      "embeddings start at column index 15\n"
     ]
    },
    {
     "data": {
      "text/plain": [
       "Index(['Image_PathName_Tubulin', 'Image_FileName_Actin',\n",
       "       'Image_PathName_Actin', 'Image_Metadata_Plate_DAPI',\n",
       "       'Image_Metadata_Well_DAPI', 'Replicate', 'Image_Metadata_Compound',\n",
       "       'Image_Metadata_Concentration', 'Image_Metadata_MoA',\n",
       "       'Image_Metadata_SMILES',\n",
       "       ...\n",
       "       'V2038', 'V2039', 'V2040', 'V2041', 'V2042', 'V2043', 'V2044', 'V2045',\n",
       "       'V2046', 'V2047'],\n",
       "      dtype='object', length=2058)"
      ]
     },
     "execution_count": 17,
     "metadata": {},
     "output_type": "execute_result"
    }
   ],
   "source": [
    "#we now check which columns indices contain embeddings. Columns containing embedding values start with 'V0'\n",
    "print('embeddings start at column index {}'.format(df.columns.get_loc('V0')))\n",
    "df.columns[5:]"
   ]
  },
  {
   "cell_type": "markdown",
   "metadata": {},
   "source": [
    "#### 1) Dimensionality reduction"
   ]
  },
  {
   "cell_type": "markdown",
   "metadata": {},
   "source": [
    "The image embeddings consist in more than 2000 features. We want to apply dimensionality reduction to both reduce the number of features, and to apply whitening which will help removing the noise from the picture embeddings. We will apply PCA with whitening, and keep the 64 to 256 first principal components. To ensure we remove the noise from the pictures, we will fit the PCA on the pictures obtained with DMSO only (Negative control = no MoA), and then transform the whole dataset."
   ]
  },
  {
   "cell_type": "code",
   "execution_count": 21,
   "metadata": {},
   "outputs": [
    {
     "name": "stdout",
     "output_type": "stream",
     "text": [
      "doing PCA with 32 principal components\n",
      "doing PCA with 64 principal components\n",
      "doing PCA with 128 principal components\n",
      "doing PCA with 256 principal components\n",
      "Transforming dataframe with 32-components PCA\n",
      "Transforming dataframe with 64-components PCA\n",
      "Transforming dataframe with 128-components PCA\n",
      "Transforming dataframe with 256-components PCA\n"
     ]
    }
   ],
   "source": [
    "#first we select the features that are important (i.e. the embeddings themselves) in the dataframe\n",
    "data = df.iloc[:, 15:]\n",
    "\n",
    "#then we normalize the data\n",
    "sc = StandardScaler()\n",
    "data = sc.fit_transform(data)\n",
    "\n",
    "#we transform back the np.array into a pd.DataFrame, and add the compound column to be able to select those which correspond to DMSO\n",
    "df_pca = pd.DataFrame(data)\n",
    "df_pca['compound'] = df.Image_Metadata_Compound\n",
    "df_pca['moa'] = df.Image_Metadata_MoA\n",
    "df_pca\n",
    "\n",
    "#now we select only the ones corresponding to DMSO\n",
    "df_dmso = df_pca[df_pca.compound == 'DMSO']\n",
    "\n",
    "#and we use it to fit the PCA, either with the first 64, 128, or 256 first principal components\n",
    "pca_list = []\n",
    "pc_list = [32, 64, 128, 256]\n",
    "for n in pc_list:\n",
    "    print('fitting PCA with {} principal components'.format(n))\n",
    "    pca = PCA(n_components=n, whiten = True)\n",
    "    pca.fit(df_dmso.iloc[:, :-2])\n",
    "    pca_list.append(pca)\n",
    "\n",
    "\n",
    "#and we transform the three datasets into a pd.DataFrame again, and append the compounds column\n",
    "df_pca_list = []\n",
    "i = 0\n",
    "for pca in pca_list:\n",
    "    print('Transforming dataframe with {}-components PCA'.format(pc_list[i]))\n",
    "    df_ = pd.DataFrame(pca.transform(data))\n",
    "    df_['compound'] = df.Image_Metadata_Compound\n",
    "    df_['moa'] = df.Image_Metadata_MoA\n",
    "    df_pca_list.append(df_)\n",
    "    i += 1\n"
   ]
  },
  {
   "cell_type": "markdown",
   "metadata": {},
   "source": [
    "Let's now have a look at the cumulated explained variance ratio of each pca object we've created. We will plot the cumulated explained variance ratio of the four pca (with 32, 64, 182 and 256 first components respectively) as bar chart."
   ]
  },
  {
   "cell_type": "code",
   "execution_count": 23,
   "metadata": {},
   "outputs": [
    {
     "data": {
      "text/plain": [
       "Text(0.5, 1.0, 'proportion of explained variance\\nversus number of principal components')"
      ]
     },
     "execution_count": 23,
     "metadata": {},
     "output_type": "execute_result"
    },
    {
     "data": {
      "image/png": "[encoded data removed]",
      "text/plain": [
       "<Figure size 640x480 with 1 Axes>"
      ]
     },
     "metadata": {},
     "output_type": "display_data"
    }
   ],
   "source": [
    "sns.set()\n",
    "sns.barplot(x = [32, 64, 128, 256], y = [pca_list[n].explained_variance_ratio_.sum() for n in range(4)], palette=\"coolwarm\")\n",
    "plt.axhline(y = 0.95) #we add a horizontal line at .95% so better visualize which pca reach 95% of explained variance\n",
    "plt.title('proportion of explained variance\\nversus number of principal components')\n"
   ]
  },
  {
   "cell_type": "markdown",
   "metadata": {},
   "source": [
    "It seems that the 32 first principal components are sufficient to explain 95% of the original embeddings variance. We will therefore proceed with the 32 PCs-PCA. To avoid re-computing the PCAs, we will export the dataframes with the 4 PCAs as csv."
   ]
  },
  {
   "cell_type": "code",
   "execution_count": 26,
   "metadata": {},
   "outputs": [],
   "source": [
    "for idx in range(4):\n",
    "    #we select the DataFrame with the required pcs\n",
    "    df_pc = df_pca_list[idx].iloc[:, :-2]\n",
    "\n",
    "    #we add the columns with Metadata to the pcs DataFrame\n",
    "    df_pc[['Metadata_PlateNumber', 'Metadata_ID', 'Metadata_TableNumber',\n",
    "        'Metadata_ImageNumber', 'Metadata_Replicate', 'Metadata_Compound',\n",
    "        'Metadata_Concentration', 'Metadata_SMILES', 'Metadata_MoA']] = df.iloc[:, :9]\n",
    "\n",
    "    #and we export it as .csv and pickle\n",
    "    df_pc.to_csv('csv_files/df_{}_{}pc.csv'.format(file_name.split('_')[1], pc_list[idx]))\n",
    "   "
   ]
  },
  {
   "cell_type": "markdown",
   "metadata": {},
   "source": [
    "#### Clustering of embeddings\n",
    "We will now attempt to cluster the embeddings. The objective is to explore the similarity of embeddings, and compare it to the similarity of chemical structure of compounds used to obtai them.\n",
    "\n",
    "Based on the qualitative inquiry we performed during Milestone 2, centroid-based clustering techniques are the ones making the most sense for clustering of such a dataset. There is no underlying tree structure between MoAs, which excludes hierarchical clustering. Distribution-based clustering was also not recommended, as it is difficult to estimate if an underlying distribution is present over that many features. We will therefore rely on Kmeans clustering.\n",
    "\n",
    "We will first create a function that screens over the different hyperparameters of the Kmeans algorithm, in order to find the optimal clustering that overlaps the most with known MoAs.\n",
    "\n",
    "First, we will determine the range of number of clusters that seems to make sense investigating. We will start with one cluster per known MoA, and screen up to 2x the number of known MoAs (this is a bit arbitrary, but we need an upper limit, and the elbow and silouhette analysis will tell us later if our upper limit was too low)."
   ]
  },
  {
   "cell_type": "code",
   "execution_count": 27,
   "metadata": {},
   "outputs": [
    {
     "name": "stdout",
     "output_type": "stream",
     "text": [
      "there are 13 unique MoA \n"
     ]
    }
   ],
   "source": [
    "n_comp =  len(df.Image_Metadata_MoA.unique())\n",
    "print('there are {} unique MoA '.format(n_comp))\n"
   ]
  },
  {
   "cell_type": "code",
   "execution_count": 33,
   "metadata": {},
   "outputs": [
    {
     "name": "stdout",
     "output_type": "stream",
     "text": [
      "testing 13 clusters, k-means++ inits, 300 max_iter\n"
     ]
    }
   ],
   "source": [
    "def scout_kmeans(df, col_idx, n_cluster, init , max_iter , save_df, random_state = 0):\n",
    "    \"\"\"Scouts Kmeans and stores the results of each trial in a dataframe that is returned by the function.\n",
    "    The dataframe contains the Kmeans paramters as well as the percentage of overlap between mode of action and \n",
    "    cluster found\n",
    "    Arguments:\n",
    "        - df: the dataframe that contains the embedding data\n",
    "        - col_idx: the index of the column where the embeddings start. 15 in the original dataframe\n",
    "        - n_cluster: list. The values to be tested for hyperparameter n_cluster\n",
    "        - init: list. The values to be tested for hyperparameter init\n",
    "        - max_iter: list. The values to be tested for hyperparameter max_iter\n",
    "        - save_df. Boolean. If true, saves df including cluster values for each screened set of parameters as CSV\n",
    "    Returns:\n",
    "        - summary_df: pd.DataFrame object. Contains the combinations of kmeans hyperparameters tested and \n",
    "          the resulting overlap between clusters and MoA\"\"\"\n",
    "    \n",
    "    #get the values of interest from the df\n",
    "    matrix = df.iloc[:, col_idx:].values\n",
    "    \n",
    "    #create 3 lists to store the combination of hyperparameters\n",
    "    cluster_list = []\n",
    "    init_list = []\n",
    "    max_iter_list = []\n",
    "\n",
    "    #create 2 list to store the inertia and silouhette scores\n",
    "    inertia_list = []\n",
    "    silouhette_list = []    \n",
    "\n",
    "    for cluster in n_cluster:\n",
    "        for i in init:\n",
    "            for iter_ in max_iter:\n",
    "                print('testing {} clusters, {} inits, {} max_iter'.format(cluster, i, iter_))\n",
    "                \n",
    "                #update the lists\n",
    "                cluster_list.append(cluster)\n",
    "                init_list.append(i)\n",
    "                max_iter_list.append(iter_)\n",
    "                \n",
    "                #create the kmeans object\n",
    "                km = KMeans(n_clusters = cluster, init = i, max_iter = iter_, random_state = random_state)\n",
    "                km.fit(matrix)\n",
    "                labels = km.labels_\n",
    "                \n",
    "                #update df with labels\n",
    "                df_copy = df.copy()\n",
    "                df_copy['cluster'] = labels\n",
    "                \n",
    "                #get the inertia score\n",
    "                inertia_list.append(km.inertia_)\n",
    "\n",
    "                #get the silouhette score\n",
    "                silouhette_list.append(silhouette_score(matrix, km.labels_))\n",
    "\n",
    "                #save the df\n",
    "                if save_df:\n",
    "                    df_copy.to_csv('csv_files/df_clusters_nclusters{}_init{}_maxiter{}_.csv'.format(cluster, i , iter_))\n",
    "\n",
    "\n",
    "                    \n",
    "    #create a DataFrame to store kmeans hyperparameters               \n",
    "    summary_df = pd.DataFrame({'n_cluster': cluster_list,\n",
    "                               'init' : init_list,\n",
    "                               'max_iter': max_iter_list,\n",
    "                               'inertia': inertia_list,\n",
    "                               'silhouette': silouhette_list})    \n",
    "\n",
    "\n",
    "                   \n",
    "    return summary_df\n",
    "\n",
    "screen_kmeans_df = scout_kmeans(df, \n",
    "                                15,\n",
    "                               [i for i in range(13, 26)],\n",
    "                               ['k-means++', 'random'], \n",
    "                               [300], \n",
    "                               save_df = True,\n",
    "                               random_state = 0)"
   ]
  }
 ],
 "metadata": {
  "kernelspec": {
   "display_name": "Python 3",
   "language": "python",
   "name": "python3"
  },
  "language_info": {
   "codemirror_mode": {
    "name": "ipython",
    "version": 3
   },
   "file_extension": ".py",
   "mimetype": "text/x-python",
   "name": "python",
   "nbconvert_exporter": "python",
   "pygments_lexer": "ipython3",
   "version": "3.12.7"
  }
 },
 "nbformat": 4,
 "nbformat_minor": 2
}
